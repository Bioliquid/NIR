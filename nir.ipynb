{
  "nbformat": 4,
  "nbformat_minor": 0,
  "metadata": {
    "colab": {
      "name": "nir.ipynb",
      "provenance": [],
      "collapsed_sections": [],
      "toc_visible": true
    },
    "kernelspec": {
      "name": "python3",
      "display_name": "Python 3"
    }
  },
  "cells": [
    {
      "cell_type": "code",
      "metadata": {
        "id": "DIO_sw-1nlXH"
      },
      "source": [
        "import pandas as pd\r\n",
        "import numpy as np\r\n",
        "import matplotlib.pyplot as plt\r\n",
        "import seaborn as sns\r\n",
        "from sklearn.preprocessing import MinMaxScaler\r\n",
        "from sklearn.model_selection import train_test_split\r\n",
        "from sklearn.linear_model import LogisticRegression\r\n",
        "from sklearn.ensemble import RandomForestClassifier\r\n",
        "from sklearn.metrics import accuracy_score\r\n",
        "from sklearn.metrics import classification_report\r\n",
        "from ga import GeneticAlgorithm"
      ],
      "execution_count": 1,
      "outputs": []
    },
    {
      "cell_type": "code",
      "metadata": {
        "colab": {
          "base_uri": "https://localhost:8080/",
          "height": 313
        },
        "id": "7wlWiFFhn11Y",
        "outputId": "c0148f45-357e-4cde-fb77-559712c8d4f5"
      },
      "source": [
        "df = pd.read_csv('data.csv')\r\n",
        "df.head()"
      ],
      "execution_count": 2,
      "outputs": [
        {
          "output_type": "execute_result",
          "data": {
            "text/html": [
              "<div>\n",
              "<style scoped>\n",
              "    .dataframe tbody tr th:only-of-type {\n",
              "        vertical-align: middle;\n",
              "    }\n",
              "\n",
              "    .dataframe tbody tr th {\n",
              "        vertical-align: top;\n",
              "    }\n",
              "\n",
              "    .dataframe thead th {\n",
              "        text-align: right;\n",
              "    }\n",
              "</style>\n",
              "<table border=\"1\" class=\"dataframe\">\n",
              "  <thead>\n",
              "    <tr style=\"text-align: right;\">\n",
              "      <th></th>\n",
              "      <th>Age</th>\n",
              "      <th>Attrition</th>\n",
              "      <th>BusinessTravel</th>\n",
              "      <th>DailyRate</th>\n",
              "      <th>Department</th>\n",
              "      <th>DistanceFromHome</th>\n",
              "      <th>Education</th>\n",
              "      <th>EducationField</th>\n",
              "      <th>EmployeeCount</th>\n",
              "      <th>EmployeeNumber</th>\n",
              "      <th>EnvironmentSatisfaction</th>\n",
              "      <th>Gender</th>\n",
              "      <th>HourlyRate</th>\n",
              "      <th>JobInvolvement</th>\n",
              "      <th>JobLevel</th>\n",
              "      <th>JobRole</th>\n",
              "      <th>JobSatisfaction</th>\n",
              "      <th>MaritalStatus</th>\n",
              "      <th>MonthlyIncome</th>\n",
              "      <th>MonthlyRate</th>\n",
              "      <th>NumCompaniesWorked</th>\n",
              "      <th>Over18</th>\n",
              "      <th>OverTime</th>\n",
              "      <th>PercentSalaryHike</th>\n",
              "      <th>PerformanceRating</th>\n",
              "      <th>RelationshipSatisfaction</th>\n",
              "      <th>StandardHours</th>\n",
              "      <th>StockOptionLevel</th>\n",
              "      <th>TotalWorkingYears</th>\n",
              "      <th>TrainingTimesLastYear</th>\n",
              "      <th>WorkLifeBalance</th>\n",
              "      <th>YearsAtCompany</th>\n",
              "      <th>YearsInCurrentRole</th>\n",
              "      <th>YearsSinceLastPromotion</th>\n",
              "      <th>YearsWithCurrManager</th>\n",
              "    </tr>\n",
              "  </thead>\n",
              "  <tbody>\n",
              "    <tr>\n",
              "      <th>0</th>\n",
              "      <td>41</td>\n",
              "      <td>Yes</td>\n",
              "      <td>Travel_Rarely</td>\n",
              "      <td>1102</td>\n",
              "      <td>Sales</td>\n",
              "      <td>1</td>\n",
              "      <td>2</td>\n",
              "      <td>Life Sciences</td>\n",
              "      <td>1</td>\n",
              "      <td>1</td>\n",
              "      <td>2</td>\n",
              "      <td>Female</td>\n",
              "      <td>94</td>\n",
              "      <td>3</td>\n",
              "      <td>2</td>\n",
              "      <td>Sales Executive</td>\n",
              "      <td>4</td>\n",
              "      <td>Single</td>\n",
              "      <td>5993</td>\n",
              "      <td>19479</td>\n",
              "      <td>8</td>\n",
              "      <td>Y</td>\n",
              "      <td>Yes</td>\n",
              "      <td>11</td>\n",
              "      <td>3</td>\n",
              "      <td>1</td>\n",
              "      <td>80</td>\n",
              "      <td>0</td>\n",
              "      <td>8</td>\n",
              "      <td>0</td>\n",
              "      <td>1</td>\n",
              "      <td>6</td>\n",
              "      <td>4</td>\n",
              "      <td>0</td>\n",
              "      <td>5</td>\n",
              "    </tr>\n",
              "    <tr>\n",
              "      <th>1</th>\n",
              "      <td>49</td>\n",
              "      <td>No</td>\n",
              "      <td>Travel_Frequently</td>\n",
              "      <td>279</td>\n",
              "      <td>Research &amp; Development</td>\n",
              "      <td>8</td>\n",
              "      <td>1</td>\n",
              "      <td>Life Sciences</td>\n",
              "      <td>1</td>\n",
              "      <td>2</td>\n",
              "      <td>3</td>\n",
              "      <td>Male</td>\n",
              "      <td>61</td>\n",
              "      <td>2</td>\n",
              "      <td>2</td>\n",
              "      <td>Research Scientist</td>\n",
              "      <td>2</td>\n",
              "      <td>Married</td>\n",
              "      <td>5130</td>\n",
              "      <td>24907</td>\n",
              "      <td>1</td>\n",
              "      <td>Y</td>\n",
              "      <td>No</td>\n",
              "      <td>23</td>\n",
              "      <td>4</td>\n",
              "      <td>4</td>\n",
              "      <td>80</td>\n",
              "      <td>1</td>\n",
              "      <td>10</td>\n",
              "      <td>3</td>\n",
              "      <td>3</td>\n",
              "      <td>10</td>\n",
              "      <td>7</td>\n",
              "      <td>1</td>\n",
              "      <td>7</td>\n",
              "    </tr>\n",
              "    <tr>\n",
              "      <th>2</th>\n",
              "      <td>37</td>\n",
              "      <td>Yes</td>\n",
              "      <td>Travel_Rarely</td>\n",
              "      <td>1373</td>\n",
              "      <td>Research &amp; Development</td>\n",
              "      <td>2</td>\n",
              "      <td>2</td>\n",
              "      <td>Other</td>\n",
              "      <td>1</td>\n",
              "      <td>4</td>\n",
              "      <td>4</td>\n",
              "      <td>Male</td>\n",
              "      <td>92</td>\n",
              "      <td>2</td>\n",
              "      <td>1</td>\n",
              "      <td>Laboratory Technician</td>\n",
              "      <td>3</td>\n",
              "      <td>Single</td>\n",
              "      <td>2090</td>\n",
              "      <td>2396</td>\n",
              "      <td>6</td>\n",
              "      <td>Y</td>\n",
              "      <td>Yes</td>\n",
              "      <td>15</td>\n",
              "      <td>3</td>\n",
              "      <td>2</td>\n",
              "      <td>80</td>\n",
              "      <td>0</td>\n",
              "      <td>7</td>\n",
              "      <td>3</td>\n",
              "      <td>3</td>\n",
              "      <td>0</td>\n",
              "      <td>0</td>\n",
              "      <td>0</td>\n",
              "      <td>0</td>\n",
              "    </tr>\n",
              "    <tr>\n",
              "      <th>3</th>\n",
              "      <td>33</td>\n",
              "      <td>No</td>\n",
              "      <td>Travel_Frequently</td>\n",
              "      <td>1392</td>\n",
              "      <td>Research &amp; Development</td>\n",
              "      <td>3</td>\n",
              "      <td>4</td>\n",
              "      <td>Life Sciences</td>\n",
              "      <td>1</td>\n",
              "      <td>5</td>\n",
              "      <td>4</td>\n",
              "      <td>Female</td>\n",
              "      <td>56</td>\n",
              "      <td>3</td>\n",
              "      <td>1</td>\n",
              "      <td>Research Scientist</td>\n",
              "      <td>3</td>\n",
              "      <td>Married</td>\n",
              "      <td>2909</td>\n",
              "      <td>23159</td>\n",
              "      <td>1</td>\n",
              "      <td>Y</td>\n",
              "      <td>Yes</td>\n",
              "      <td>11</td>\n",
              "      <td>3</td>\n",
              "      <td>3</td>\n",
              "      <td>80</td>\n",
              "      <td>0</td>\n",
              "      <td>8</td>\n",
              "      <td>3</td>\n",
              "      <td>3</td>\n",
              "      <td>8</td>\n",
              "      <td>7</td>\n",
              "      <td>3</td>\n",
              "      <td>0</td>\n",
              "    </tr>\n",
              "    <tr>\n",
              "      <th>4</th>\n",
              "      <td>27</td>\n",
              "      <td>No</td>\n",
              "      <td>Travel_Rarely</td>\n",
              "      <td>591</td>\n",
              "      <td>Research &amp; Development</td>\n",
              "      <td>2</td>\n",
              "      <td>1</td>\n",
              "      <td>Medical</td>\n",
              "      <td>1</td>\n",
              "      <td>7</td>\n",
              "      <td>1</td>\n",
              "      <td>Male</td>\n",
              "      <td>40</td>\n",
              "      <td>3</td>\n",
              "      <td>1</td>\n",
              "      <td>Laboratory Technician</td>\n",
              "      <td>2</td>\n",
              "      <td>Married</td>\n",
              "      <td>3468</td>\n",
              "      <td>16632</td>\n",
              "      <td>9</td>\n",
              "      <td>Y</td>\n",
              "      <td>No</td>\n",
              "      <td>12</td>\n",
              "      <td>3</td>\n",
              "      <td>4</td>\n",
              "      <td>80</td>\n",
              "      <td>1</td>\n",
              "      <td>6</td>\n",
              "      <td>3</td>\n",
              "      <td>3</td>\n",
              "      <td>2</td>\n",
              "      <td>2</td>\n",
              "      <td>2</td>\n",
              "      <td>2</td>\n",
              "    </tr>\n",
              "  </tbody>\n",
              "</table>\n",
              "</div>"
            ],
            "text/plain": [
              "   Age Attrition  ... YearsSinceLastPromotion  YearsWithCurrManager\n",
              "0   41       Yes  ...                       0                     5\n",
              "1   49        No  ...                       1                     7\n",
              "2   37       Yes  ...                       0                     0\n",
              "3   33        No  ...                       3                     0\n",
              "4   27        No  ...                       2                     2\n",
              "\n",
              "[5 rows x 35 columns]"
            ]
          },
          "metadata": {
            "tags": []
          },
          "execution_count": 2
        }
      ]
    },
    {
      "cell_type": "code",
      "metadata": {
        "colab": {
          "base_uri": "https://localhost:8080/"
        },
        "id": "i2vXSgCCwSJa",
        "outputId": "7b8da8ad-eeb9-4924-892c-b615fd46880f"
      },
      "source": [
        "df.shape"
      ],
      "execution_count": 3,
      "outputs": [
        {
          "output_type": "execute_result",
          "data": {
            "text/plain": [
              "(1470, 35)"
            ]
          },
          "metadata": {
            "tags": []
          },
          "execution_count": 3
        }
      ]
    },
    {
      "cell_type": "code",
      "metadata": {
        "colab": {
          "base_uri": "https://localhost:8080/"
        },
        "id": "2HbARurroBWo",
        "outputId": "4d150342-dadd-4f72-ba1d-cc6b6102dc30"
      },
      "source": [
        "df.isna().sum()"
      ],
      "execution_count": 4,
      "outputs": [
        {
          "output_type": "execute_result",
          "data": {
            "text/plain": [
              "Age                         0\n",
              "Attrition                   0\n",
              "BusinessTravel              0\n",
              "DailyRate                   0\n",
              "Department                  0\n",
              "DistanceFromHome            0\n",
              "Education                   0\n",
              "EducationField              0\n",
              "EmployeeCount               0\n",
              "EmployeeNumber              0\n",
              "EnvironmentSatisfaction     0\n",
              "Gender                      0\n",
              "HourlyRate                  0\n",
              "JobInvolvement              0\n",
              "JobLevel                    0\n",
              "JobRole                     0\n",
              "JobSatisfaction             0\n",
              "MaritalStatus               0\n",
              "MonthlyIncome               0\n",
              "MonthlyRate                 0\n",
              "NumCompaniesWorked          0\n",
              "Over18                      0\n",
              "OverTime                    0\n",
              "PercentSalaryHike           0\n",
              "PerformanceRating           0\n",
              "RelationshipSatisfaction    0\n",
              "StandardHours               0\n",
              "StockOptionLevel            0\n",
              "TotalWorkingYears           0\n",
              "TrainingTimesLastYear       0\n",
              "WorkLifeBalance             0\n",
              "YearsAtCompany              0\n",
              "YearsInCurrentRole          0\n",
              "YearsSinceLastPromotion     0\n",
              "YearsWithCurrManager        0\n",
              "dtype: int64"
            ]
          },
          "metadata": {
            "tags": []
          },
          "execution_count": 4
        }
      ]
    },
    {
      "cell_type": "code",
      "metadata": {
        "colab": {
          "base_uri": "https://localhost:8080/",
          "height": 192
        },
        "id": "4nDQ5SYUpF-K",
        "outputId": "f1c0e614-0221-44c3-cea0-8f2348b528e5"
      },
      "source": [
        "deep_dive1 = ['Age','Over18','Gender']\r\n",
        "\r\n",
        "fig, axes = plt.subplots(nrows=1, ncols=3, figsize=(25,5))\r\n",
        "fig.subplots_adjust(hspace=0.5, bottom=0)\r\n",
        "for ax, catplot in zip(axes.flatten(), deep_dive1):\r\n",
        "        sns.countplot(x=catplot, data=df, hue='PerformanceRating',  palette=\"Set3\", ax=ax, )\r\n",
        "        ax.set_title(catplot.upper(), fontsize=12)\r\n",
        "        ax.set_ylabel('Count', fontsize=12)\r\n",
        "        ax.set_xlabel(f'{catplot} Values', fontsize=12)\r\n",
        "        ax.legend(title='PerformanceRating', fontsize=12)"
      ],
      "execution_count": 5,
      "outputs": [
        {
          "output_type": "display_data",
          "data": {
            "image/png": "[encoded data removed]",
            "text/plain": [
              "<Figure size 1800x360 with 3 Axes>"
            ]
          },
          "metadata": {
            "tags": [],
            "needs_background": "light"
          }
        }
      ]
    },
    {
      "cell_type": "code",
      "metadata": {
        "colab": {
          "base_uri": "https://localhost:8080/",
          "height": 192
        },
        "id": "ErJyFfZzp-yC",
        "outputId": "41eb8007-c5e9-4a70-bac8-7f6633f17115"
      },
      "source": [
        "deep_dive2 = ['EducationField','Education','Department']\r\n",
        "\r\n",
        "fig, axes = plt.subplots(nrows=1, ncols=3, figsize=(25,5))\r\n",
        "fig.subplots_adjust(hspace=0.5, bottom=0)\r\n",
        "for ax, catplot in zip(axes.flatten(), deep_dive2):\r\n",
        "        sns.countplot(x=catplot, data=df, hue='PerformanceRating',  palette=\"Set3\", ax=ax, )\r\n",
        "        ax.set_title(catplot.upper(), fontsize=12)\r\n",
        "        ax.set_ylabel('Count', fontsize=12)\r\n",
        "        ax.set_xlabel(f'{catplot} Values', fontsize=12)\r\n",
        "        ax.legend(title='PerformanceRating', fontsize=12)"
      ],
      "execution_count": 6,
      "outputs": [
        {
          "output_type": "display_data",
          "data": {
            "image/png": "[encoded data removed]",
            "text/plain": [
              "<Figure size 1800x360 with 3 Axes>"
            ]
          },
          "metadata": {
            "tags": [],
            "needs_background": "light"
          }
        }
      ]
    },
    {
      "cell_type": "code",
      "metadata": {
        "colab": {
          "base_uri": "https://localhost:8080/",
          "height": 192
        },
        "id": "8ZFErVgPqYYp",
        "outputId": "d70bbfbc-be66-468e-c165-162642fa5fe2"
      },
      "source": [
        "deep_dive3 = ['BusinessTravel', 'DistanceFromHome', 'EnvironmentSatisfaction']\r\n",
        "\r\n",
        "fig, axes = plt.subplots(nrows=1, ncols=3, figsize=(25,5))\r\n",
        "fig.subplots_adjust(hspace=0.5, bottom=0)\r\n",
        "for ax, catplot in zip(axes.flatten(), deep_dive3):\r\n",
        "        sns.countplot(x=catplot, data=df, hue='PerformanceRating',  palette=\"Set3\", ax=ax, )\r\n",
        "        ax.set_title(catplot.upper(), fontsize=12)\r\n",
        "        ax.set_ylabel('Count', fontsize=12)\r\n",
        "        ax.set_xlabel(f'{catplot} Values', fontsize=12)\r\n",
        "        ax.legend(title='PerformanceRating', fontsize=12)\r\n",
        "        ax.legend(title='PerformanceRating', fontsize=12)"
      ],
      "execution_count": 7,
      "outputs": [
        {
          "output_type": "display_data",
          "data": {
            "image/png": "[encoded data removed]",
            "text/plain": [
              "<Figure size 1800x360 with 3 Axes>"
            ]
          },
          "metadata": {
            "tags": [],
            "needs_background": "light"
          }
        }
      ]
    },
    {
      "cell_type": "code",
      "metadata": {
        "colab": {
          "base_uri": "https://localhost:8080/",
          "height": 192
        },
        "id": "yxyqECD5q3N2",
        "outputId": "509b4e57-94f5-459b-f133-6c29e41f2ab2"
      },
      "source": [
        "deep_dive4 = ['MaritalStatus','WorkLifeBalance','OverTime']\r\n",
        "\r\n",
        "fig, axes = plt.subplots(nrows=1, ncols=3, figsize=(25,5))\r\n",
        "fig.subplots_adjust(hspace=0.5, bottom=0)\r\n",
        "for ax, catplot in zip(axes.flatten(), deep_dive4):\r\n",
        "        sns.countplot(x=catplot, data=df, hue='PerformanceRating', palette=\"Set3\", ax=ax, )\r\n",
        "        ax.set_title(catplot.upper(), fontsize=12)\r\n",
        "        ax.set_ylabel('Count', fontsize=12)\r\n",
        "        ax.set_xlabel(f'{catplot} Values', fontsize=12)\r\n",
        "        ax.legend(title='PerformanceRating', fontsize=12)"
      ],
      "execution_count": 8,
      "outputs": [
        {
          "output_type": "display_data",
          "data": {
            "image/png": "[encoded data removed]",
            "text/plain": [
              "<Figure size 1800x360 with 3 Axes>"
            ]
          },
          "metadata": {
            "tags": [],
            "needs_background": "light"
          }
        }
      ]
    },
    {
      "cell_type": "code",
      "metadata": {
        "colab": {
          "base_uri": "https://localhost:8080/",
          "height": 192
        },
        "id": "fYPB2ry2q_h5",
        "outputId": "d31a38b5-2a1f-4723-c14d-cc26446dcb0e"
      },
      "source": [
        "deep_dive5 = ['JobLevel', 'JobInvolvement', 'JobSatisfaction'] \r\n",
        "\r\n",
        "fig, axes = plt.subplots(nrows=1, ncols=3, figsize=(25,5))\r\n",
        "fig.subplots_adjust(hspace=0.5, bottom=0)\r\n",
        "for ax, catplot in zip(axes.flatten(), deep_dive5):\r\n",
        "        sns.countplot(x=catplot, data=df, hue='PerformanceRating',  palette=\"Set3\", ax=ax, )\r\n",
        "        ax.set_title(catplot.upper(), fontsize=12)\r\n",
        "        ax.set_ylabel('Count', fontsize=12)\r\n",
        "        ax.set_xlabel(f'{catplot} Values', fontsize=12)\r\n",
        "        ax.legend(title='PerformanceRating', fontsize=12)"
      ],
      "execution_count": 9,
      "outputs": [
        {
          "output_type": "display_data",
          "data": {
            "image/png": "[encoded data removed]",
            "text/plain": [
              "<Figure size 1800x360 with 3 Axes>"
            ]
          },
          "metadata": {
            "tags": [],
            "needs_background": "light"
          }
        }
      ]
    },
    {
      "cell_type": "code",
      "metadata": {
        "colab": {
          "base_uri": "https://localhost:8080/",
          "height": 191
        },
        "id": "SmJFhpjZrFJE",
        "outputId": "cc1feb68-576a-4e86-d014-10915764dce0"
      },
      "source": [
        "deep_dive6 = ['TotalWorkingYears', 'NumCompaniesWorked', 'YearsAtCompany']\r\n",
        "\r\n",
        "fig, axes = plt.subplots(nrows=1, ncols=3, figsize=(25,5))\r\n",
        "fig.subplots_adjust(hspace=0.5, bottom=0)\r\n",
        "for ax, catplot in zip(axes.flatten(), deep_dive6):\r\n",
        "        sns.countplot(x=catplot, data=df, hue='PerformanceRating',  palette=\"Set3\", ax=ax, )\r\n",
        "        ax.set_title(catplot.upper(), fontsize=12)\r\n",
        "        ax.set_ylabel('Count', fontsize=12)\r\n",
        "        ax.set_xlabel(f'{catplot} Values', fontsize=12)\r\n",
        "        ax.legend(title='PerformanceRating', fontsize=12)"
      ],
      "execution_count": 10,
      "outputs": [
        {
          "output_type": "display_data",
          "data": {
            "image/png": "[encoded data removed]",
            "text/plain": [
              "<Figure size 1800x360 with 3 Axes>"
            ]
          },
          "metadata": {
            "tags": [],
            "needs_background": "light"
          }
        }
      ]
    },
    {
      "cell_type": "code",
      "metadata": {
        "colab": {
          "base_uri": "https://localhost:8080/",
          "height": 191
        },
        "id": "GQ3VkaKbrMRp",
        "outputId": "424c8b2d-86c4-455f-9ebb-85fd72c1e33f"
      },
      "source": [
        "deep_dive7 = ['StandardHours','RelationshipSatisfaction','TrainingTimesLastYear']\r\n",
        "\r\n",
        "fig, axes = plt.subplots(nrows=1, ncols=3, figsize=(25,5))\r\n",
        "fig.subplots_adjust(hspace=0.5, bottom=0)\r\n",
        "for ax, catplot in zip(axes.flatten(), deep_dive7):\r\n",
        "        sns.countplot(x=catplot, data=df, hue='PerformanceRating',  palette=\"Set3\", ax=ax, )\r\n",
        "        ax.set_title(catplot.upper(), fontsize=12)\r\n",
        "        ax.set_ylabel('Count', fontsize=12)\r\n",
        "        ax.set_xlabel(f'{catplot} Values', fontsize=12)\r\n",
        "        ax.legend(title='PerformanceRating', fontsize=12)"
      ],
      "execution_count": 11,
      "outputs": [
        {
          "output_type": "display_data",
          "data": {
            "image/png": "[encoded data removed]",
            "text/plain": [
              "<Figure size 1800x360 with 3 Axes>"
            ]
          },
          "metadata": {
            "tags": [],
            "needs_background": "light"
          }
        }
      ]
    },
    {
      "cell_type": "code",
      "metadata": {
        "colab": {
          "base_uri": "https://localhost:8080/",
          "height": 192
        },
        "id": "dNQwxGw9rUzs",
        "outputId": "d3792b03-c730-454f-ebd4-6f0a3797ad06"
      },
      "source": [
        "deep_dive8 = ['YearsInCurrentRole', 'YearsSinceLastPromotion', 'YearsWithCurrManager']\r\n",
        "\r\n",
        "fig, axes = plt.subplots(nrows=1, ncols=3, figsize=(25,5))\r\n",
        "fig.subplots_adjust(hspace=0.5, bottom=0)\r\n",
        "for ax, catplot in zip(axes.flatten(), deep_dive8):\r\n",
        "        sns.countplot(x=catplot, data=df, hue='PerformanceRating',  palette=\"Set3\", ax=ax, )\r\n",
        "        ax.set_title(catplot.upper(), fontsize=12)\r\n",
        "        ax.set_ylabel('Count', fontsize=12)\r\n",
        "        ax.set_xlabel(f'{catplot} Values', fontsize=12)\r\n",
        "        ax.legend(title='PerformanceRating', fontsize=12)"
      ],
      "execution_count": 12,
      "outputs": [
        {
          "output_type": "display_data",
          "data": {
            "image/png": "[encoded data removed]",
            "text/plain": [
              "<Figure size 1800x360 with 3 Axes>"
            ]
          },
          "metadata": {
            "tags": [],
            "needs_background": "light"
          }
        }
      ]
    },
    {
      "cell_type": "code",
      "metadata": {
        "colab": {
          "base_uri": "https://localhost:8080/",
          "height": 192
        },
        "id": "04_NsOsJrdIj",
        "outputId": "ef009f82-23c8-4878-efd2-559f5b43f7ef"
      },
      "source": [
        "deep_dive9 = ['MonthlyIncome', 'PercentSalaryHike', 'PerformanceRating']\r\n",
        "\r\n",
        "fig, axes = plt.subplots(nrows=1, ncols=3, figsize=(25,5))\r\n",
        "fig.subplots_adjust(hspace=0.5, bottom=0)\r\n",
        "for ax, catplot in zip(axes.flatten(), deep_dive9):\r\n",
        "        sns.countplot(x=catplot, data=df, hue='PerformanceRating',  palette=\"Set3\", ax=ax, )\r\n",
        "        ax.set_title(catplot.upper(), fontsize=12)\r\n",
        "        ax.set_ylabel('Count', fontsize=12)\r\n",
        "        ax.set_xlabel(f'{catplot} Values', fontsize=12)\r\n",
        "        ax.legend(title='PerformanceRating', fontsize=12)"
      ],
      "execution_count": 13,
      "outputs": [
        {
          "output_type": "display_data",
          "data": {
            "image/png": "[encoded data removed]",
            "text/plain": [
              "<Figure size 1800x360 with 3 Axes>"
            ]
          },
          "metadata": {
            "tags": [],
            "needs_background": "light"
          }
        }
      ]
    },
    {
      "cell_type": "code",
      "metadata": {
        "id": "F_nTReZurjjj"
      },
      "source": [
        "# modification of data format\r\n",
        "# most values are intergers anyway\r\n",
        "df['Attrition'] = df['Attrition'].apply(lambda x: 1 if x == 'Yes' else 0)\r\n",
        "df['Over18'] = df['Over18'].apply(lambda x: 1 if x == 'Y' else 0)\r\n",
        "df['OverTime'] = df['OverTime'].apply(lambda x: 1 if x == 'Yes' else 0)\r\n",
        "df['Gender'] = df['Gender'].apply(lambda x: 1 if x == 'Female' else 0)"
      ],
      "execution_count": 14,
      "outputs": []
    },
    {
      "cell_type": "code",
      "metadata": {
        "colab": {
          "base_uri": "https://localhost:8080/",
          "height": 320
        },
        "id": "fwZwcZ0btDhj",
        "outputId": "1bce6ccb-a088-4150-c196-48100fe2bb8b"
      },
      "source": [
        "df[df['Attrition'] == 1].describe()"
      ],
      "execution_count": 15,
      "outputs": [
        {
          "output_type": "execute_result",
          "data": {
            "text/html": [
              "<div>\n",
              "<style scoped>\n",
              "    .dataframe tbody tr th:only-of-type {\n",
              "        vertical-align: middle;\n",
              "    }\n",
              "\n",
              "    .dataframe tbody tr th {\n",
              "        vertical-align: top;\n",
              "    }\n",
              "\n",
              "    .dataframe thead th {\n",
              "        text-align: right;\n",
              "    }\n",
              "</style>\n",
              "<table border=\"1\" class=\"dataframe\">\n",
              "  <thead>\n",
              "    <tr style=\"text-align: right;\">\n",
              "      <th></th>\n",
              "      <th>Age</th>\n",
              "      <th>Attrition</th>\n",
              "      <th>DailyRate</th>\n",
              "      <th>DistanceFromHome</th>\n",
              "      <th>Education</th>\n",
              "      <th>EmployeeCount</th>\n",
              "      <th>EmployeeNumber</th>\n",
              "      <th>EnvironmentSatisfaction</th>\n",
              "      <th>Gender</th>\n",
              "      <th>HourlyRate</th>\n",
              "      <th>JobInvolvement</th>\n",
              "      <th>JobLevel</th>\n",
              "      <th>JobSatisfaction</th>\n",
              "      <th>MonthlyIncome</th>\n",
              "      <th>MonthlyRate</th>\n",
              "      <th>NumCompaniesWorked</th>\n",
              "      <th>Over18</th>\n",
              "      <th>OverTime</th>\n",
              "      <th>PercentSalaryHike</th>\n",
              "      <th>PerformanceRating</th>\n",
              "      <th>RelationshipSatisfaction</th>\n",
              "      <th>StandardHours</th>\n",
              "      <th>StockOptionLevel</th>\n",
              "      <th>TotalWorkingYears</th>\n",
              "      <th>TrainingTimesLastYear</th>\n",
              "      <th>WorkLifeBalance</th>\n",
              "      <th>YearsAtCompany</th>\n",
              "      <th>YearsInCurrentRole</th>\n",
              "      <th>YearsSinceLastPromotion</th>\n",
              "      <th>YearsWithCurrManager</th>\n",
              "    </tr>\n",
              "  </thead>\n",
              "  <tbody>\n",
              "    <tr>\n",
              "      <th>count</th>\n",
              "      <td>237.000000</td>\n",
              "      <td>237.0</td>\n",
              "      <td>237.000000</td>\n",
              "      <td>237.000000</td>\n",
              "      <td>237.000000</td>\n",
              "      <td>237.0</td>\n",
              "      <td>237.000000</td>\n",
              "      <td>237.000000</td>\n",
              "      <td>237.000000</td>\n",
              "      <td>237.000000</td>\n",
              "      <td>237.000000</td>\n",
              "      <td>237.000000</td>\n",
              "      <td>237.000000</td>\n",
              "      <td>237.000000</td>\n",
              "      <td>237.000000</td>\n",
              "      <td>237.000000</td>\n",
              "      <td>237.0</td>\n",
              "      <td>237.000000</td>\n",
              "      <td>237.000000</td>\n",
              "      <td>237.000000</td>\n",
              "      <td>237.000000</td>\n",
              "      <td>237.0</td>\n",
              "      <td>237.000000</td>\n",
              "      <td>237.000000</td>\n",
              "      <td>237.000000</td>\n",
              "      <td>237.000000</td>\n",
              "      <td>237.000000</td>\n",
              "      <td>237.000000</td>\n",
              "      <td>237.000000</td>\n",
              "      <td>237.000000</td>\n",
              "    </tr>\n",
              "    <tr>\n",
              "      <th>mean</th>\n",
              "      <td>33.607595</td>\n",
              "      <td>1.0</td>\n",
              "      <td>750.362869</td>\n",
              "      <td>10.632911</td>\n",
              "      <td>2.839662</td>\n",
              "      <td>1.0</td>\n",
              "      <td>1010.345992</td>\n",
              "      <td>2.464135</td>\n",
              "      <td>0.367089</td>\n",
              "      <td>65.573840</td>\n",
              "      <td>2.518987</td>\n",
              "      <td>1.637131</td>\n",
              "      <td>2.468354</td>\n",
              "      <td>4787.092827</td>\n",
              "      <td>14559.308017</td>\n",
              "      <td>2.940928</td>\n",
              "      <td>1.0</td>\n",
              "      <td>0.535865</td>\n",
              "      <td>15.097046</td>\n",
              "      <td>3.156118</td>\n",
              "      <td>2.599156</td>\n",
              "      <td>80.0</td>\n",
              "      <td>0.527426</td>\n",
              "      <td>8.244726</td>\n",
              "      <td>2.624473</td>\n",
              "      <td>2.658228</td>\n",
              "      <td>5.130802</td>\n",
              "      <td>2.902954</td>\n",
              "      <td>1.945148</td>\n",
              "      <td>2.852321</td>\n",
              "    </tr>\n",
              "    <tr>\n",
              "      <th>std</th>\n",
              "      <td>9.689350</td>\n",
              "      <td>0.0</td>\n",
              "      <td>401.899519</td>\n",
              "      <td>8.452525</td>\n",
              "      <td>1.008244</td>\n",
              "      <td>0.0</td>\n",
              "      <td>580.750572</td>\n",
              "      <td>1.169791</td>\n",
              "      <td>0.483031</td>\n",
              "      <td>20.099958</td>\n",
              "      <td>0.773405</td>\n",
              "      <td>0.940594</td>\n",
              "      <td>1.118058</td>\n",
              "      <td>3640.210367</td>\n",
              "      <td>7208.153264</td>\n",
              "      <td>2.678519</td>\n",
              "      <td>0.0</td>\n",
              "      <td>0.499768</td>\n",
              "      <td>3.770294</td>\n",
              "      <td>0.363735</td>\n",
              "      <td>1.125437</td>\n",
              "      <td>0.0</td>\n",
              "      <td>0.856361</td>\n",
              "      <td>7.169204</td>\n",
              "      <td>1.254784</td>\n",
              "      <td>0.816453</td>\n",
              "      <td>5.949984</td>\n",
              "      <td>3.174827</td>\n",
              "      <td>3.153077</td>\n",
              "      <td>3.143349</td>\n",
              "    </tr>\n",
              "    <tr>\n",
              "      <th>min</th>\n",
              "      <td>18.000000</td>\n",
              "      <td>1.0</td>\n",
              "      <td>103.000000</td>\n",
              "      <td>1.000000</td>\n",
              "      <td>1.000000</td>\n",
              "      <td>1.0</td>\n",
              "      <td>1.000000</td>\n",
              "      <td>1.000000</td>\n",
              "      <td>0.000000</td>\n",
              "      <td>31.000000</td>\n",
              "      <td>1.000000</td>\n",
              "      <td>1.000000</td>\n",
              "      <td>1.000000</td>\n",
              "      <td>1009.000000</td>\n",
              "      <td>2326.000000</td>\n",
              "      <td>0.000000</td>\n",
              "      <td>1.0</td>\n",
              "      <td>0.000000</td>\n",
              "      <td>11.000000</td>\n",
              "      <td>3.000000</td>\n",
              "      <td>1.000000</td>\n",
              "      <td>80.0</td>\n",
              "      <td>0.000000</td>\n",
              "      <td>0.000000</td>\n",
              "      <td>0.000000</td>\n",
              "      <td>1.000000</td>\n",
              "      <td>0.000000</td>\n",
              "      <td>0.000000</td>\n",
              "      <td>0.000000</td>\n",
              "      <td>0.000000</td>\n",
              "    </tr>\n",
              "    <tr>\n",
              "      <th>25%</th>\n",
              "      <td>28.000000</td>\n",
              "      <td>1.0</td>\n",
              "      <td>408.000000</td>\n",
              "      <td>3.000000</td>\n",
              "      <td>2.000000</td>\n",
              "      <td>1.0</td>\n",
              "      <td>514.000000</td>\n",
              "      <td>1.000000</td>\n",
              "      <td>0.000000</td>\n",
              "      <td>50.000000</td>\n",
              "      <td>2.000000</td>\n",
              "      <td>1.000000</td>\n",
              "      <td>1.000000</td>\n",
              "      <td>2373.000000</td>\n",
              "      <td>8870.000000</td>\n",
              "      <td>1.000000</td>\n",
              "      <td>1.0</td>\n",
              "      <td>0.000000</td>\n",
              "      <td>12.000000</td>\n",
              "      <td>3.000000</td>\n",
              "      <td>2.000000</td>\n",
              "      <td>80.0</td>\n",
              "      <td>0.000000</td>\n",
              "      <td>3.000000</td>\n",
              "      <td>2.000000</td>\n",
              "      <td>2.000000</td>\n",
              "      <td>1.000000</td>\n",
              "      <td>0.000000</td>\n",
              "      <td>0.000000</td>\n",
              "      <td>0.000000</td>\n",
              "    </tr>\n",
              "    <tr>\n",
              "      <th>50%</th>\n",
              "      <td>32.000000</td>\n",
              "      <td>1.0</td>\n",
              "      <td>699.000000</td>\n",
              "      <td>9.000000</td>\n",
              "      <td>3.000000</td>\n",
              "      <td>1.0</td>\n",
              "      <td>1017.000000</td>\n",
              "      <td>3.000000</td>\n",
              "      <td>0.000000</td>\n",
              "      <td>66.000000</td>\n",
              "      <td>3.000000</td>\n",
              "      <td>1.000000</td>\n",
              "      <td>3.000000</td>\n",
              "      <td>3202.000000</td>\n",
              "      <td>14618.000000</td>\n",
              "      <td>1.000000</td>\n",
              "      <td>1.0</td>\n",
              "      <td>1.000000</td>\n",
              "      <td>14.000000</td>\n",
              "      <td>3.000000</td>\n",
              "      <td>3.000000</td>\n",
              "      <td>80.0</td>\n",
              "      <td>0.000000</td>\n",
              "      <td>7.000000</td>\n",
              "      <td>2.000000</td>\n",
              "      <td>3.000000</td>\n",
              "      <td>3.000000</td>\n",
              "      <td>2.000000</td>\n",
              "      <td>1.000000</td>\n",
              "      <td>2.000000</td>\n",
              "    </tr>\n",
              "    <tr>\n",
              "      <th>75%</th>\n",
              "      <td>39.000000</td>\n",
              "      <td>1.0</td>\n",
              "      <td>1092.000000</td>\n",
              "      <td>17.000000</td>\n",
              "      <td>4.000000</td>\n",
              "      <td>1.0</td>\n",
              "      <td>1486.000000</td>\n",
              "      <td>4.000000</td>\n",
              "      <td>1.000000</td>\n",
              "      <td>84.000000</td>\n",
              "      <td>3.000000</td>\n",
              "      <td>2.000000</td>\n",
              "      <td>3.000000</td>\n",
              "      <td>5916.000000</td>\n",
              "      <td>21081.000000</td>\n",
              "      <td>5.000000</td>\n",
              "      <td>1.0</td>\n",
              "      <td>1.000000</td>\n",
              "      <td>17.000000</td>\n",
              "      <td>3.000000</td>\n",
              "      <td>4.000000</td>\n",
              "      <td>80.0</td>\n",
              "      <td>1.000000</td>\n",
              "      <td>10.000000</td>\n",
              "      <td>3.000000</td>\n",
              "      <td>3.000000</td>\n",
              "      <td>7.000000</td>\n",
              "      <td>4.000000</td>\n",
              "      <td>2.000000</td>\n",
              "      <td>5.000000</td>\n",
              "    </tr>\n",
              "    <tr>\n",
              "      <th>max</th>\n",
              "      <td>58.000000</td>\n",
              "      <td>1.0</td>\n",
              "      <td>1496.000000</td>\n",
              "      <td>29.000000</td>\n",
              "      <td>5.000000</td>\n",
              "      <td>1.0</td>\n",
              "      <td>2055.000000</td>\n",
              "      <td>4.000000</td>\n",
              "      <td>1.000000</td>\n",
              "      <td>100.000000</td>\n",
              "      <td>4.000000</td>\n",
              "      <td>5.000000</td>\n",
              "      <td>4.000000</td>\n",
              "      <td>19859.000000</td>\n",
              "      <td>26999.000000</td>\n",
              "      <td>9.000000</td>\n",
              "      <td>1.0</td>\n",
              "      <td>1.000000</td>\n",
              "      <td>25.000000</td>\n",
              "      <td>4.000000</td>\n",
              "      <td>4.000000</td>\n",
              "      <td>80.0</td>\n",
              "      <td>3.000000</td>\n",
              "      <td>40.000000</td>\n",
              "      <td>6.000000</td>\n",
              "      <td>4.000000</td>\n",
              "      <td>40.000000</td>\n",
              "      <td>15.000000</td>\n",
              "      <td>15.000000</td>\n",
              "      <td>14.000000</td>\n",
              "    </tr>\n",
              "  </tbody>\n",
              "</table>\n",
              "</div>"
            ],
            "text/plain": [
              "              Age  Attrition  ...  YearsSinceLastPromotion  YearsWithCurrManager\n",
              "count  237.000000      237.0  ...               237.000000            237.000000\n",
              "mean    33.607595        1.0  ...                 1.945148              2.852321\n",
              "std      9.689350        0.0  ...                 3.153077              3.143349\n",
              "min     18.000000        1.0  ...                 0.000000              0.000000\n",
              "25%     28.000000        1.0  ...                 0.000000              0.000000\n",
              "50%     32.000000        1.0  ...                 1.000000              2.000000\n",
              "75%     39.000000        1.0  ...                 2.000000              5.000000\n",
              "max     58.000000        1.0  ...                15.000000             14.000000\n",
              "\n",
              "[8 rows x 30 columns]"
            ]
          },
          "metadata": {
            "tags": []
          },
          "execution_count": 15
        }
      ]
    },
    {
      "cell_type": "code",
      "metadata": {
        "colab": {
          "base_uri": "https://localhost:8080/",
          "height": 320
        },
        "id": "OXeJLyCntTOj",
        "outputId": "8ce6f49e-eb7d-4900-dbed-4f44d2e208eb"
      },
      "source": [
        "df[df['Attrition'] == 0].describe()"
      ],
      "execution_count": 16,
      "outputs": [
        {
          "output_type": "execute_result",
          "data": {
            "text/html": [
              "<div>\n",
              "<style scoped>\n",
              "    .dataframe tbody tr th:only-of-type {\n",
              "        vertical-align: middle;\n",
              "    }\n",
              "\n",
              "    .dataframe tbody tr th {\n",
              "        vertical-align: top;\n",
              "    }\n",
              "\n",
              "    .dataframe thead th {\n",
              "        text-align: right;\n",
              "    }\n",
              "</style>\n",
              "<table border=\"1\" class=\"dataframe\">\n",
              "  <thead>\n",
              "    <tr style=\"text-align: right;\">\n",
              "      <th></th>\n",
              "      <th>Age</th>\n",
              "      <th>Attrition</th>\n",
              "      <th>DailyRate</th>\n",
              "      <th>DistanceFromHome</th>\n",
              "      <th>Education</th>\n",
              "      <th>EmployeeCount</th>\n",
              "      <th>EmployeeNumber</th>\n",
              "      <th>EnvironmentSatisfaction</th>\n",
              "      <th>Gender</th>\n",
              "      <th>HourlyRate</th>\n",
              "      <th>JobInvolvement</th>\n",
              "      <th>JobLevel</th>\n",
              "      <th>JobSatisfaction</th>\n",
              "      <th>MonthlyIncome</th>\n",
              "      <th>MonthlyRate</th>\n",
              "      <th>NumCompaniesWorked</th>\n",
              "      <th>Over18</th>\n",
              "      <th>OverTime</th>\n",
              "      <th>PercentSalaryHike</th>\n",
              "      <th>PerformanceRating</th>\n",
              "      <th>RelationshipSatisfaction</th>\n",
              "      <th>StandardHours</th>\n",
              "      <th>StockOptionLevel</th>\n",
              "      <th>TotalWorkingYears</th>\n",
              "      <th>TrainingTimesLastYear</th>\n",
              "      <th>WorkLifeBalance</th>\n",
              "      <th>YearsAtCompany</th>\n",
              "      <th>YearsInCurrentRole</th>\n",
              "      <th>YearsSinceLastPromotion</th>\n",
              "      <th>YearsWithCurrManager</th>\n",
              "    </tr>\n",
              "  </thead>\n",
              "  <tbody>\n",
              "    <tr>\n",
              "      <th>count</th>\n",
              "      <td>1233.000000</td>\n",
              "      <td>1233.0</td>\n",
              "      <td>1233.000000</td>\n",
              "      <td>1233.000000</td>\n",
              "      <td>1233.000000</td>\n",
              "      <td>1233.0</td>\n",
              "      <td>1233.000000</td>\n",
              "      <td>1233.000000</td>\n",
              "      <td>1233.000000</td>\n",
              "      <td>1233.000000</td>\n",
              "      <td>1233.000000</td>\n",
              "      <td>1233.000000</td>\n",
              "      <td>1233.000000</td>\n",
              "      <td>1233.000000</td>\n",
              "      <td>1233.000000</td>\n",
              "      <td>1233.00000</td>\n",
              "      <td>1233.0</td>\n",
              "      <td>1233.000000</td>\n",
              "      <td>1233.000000</td>\n",
              "      <td>1233.000000</td>\n",
              "      <td>1233.000000</td>\n",
              "      <td>1233.0</td>\n",
              "      <td>1233.000000</td>\n",
              "      <td>1233.000000</td>\n",
              "      <td>1233.000000</td>\n",
              "      <td>1233.000000</td>\n",
              "      <td>1233.000000</td>\n",
              "      <td>1233.000000</td>\n",
              "      <td>1233.000000</td>\n",
              "      <td>1233.000000</td>\n",
              "    </tr>\n",
              "    <tr>\n",
              "      <th>mean</th>\n",
              "      <td>37.561233</td>\n",
              "      <td>0.0</td>\n",
              "      <td>812.504461</td>\n",
              "      <td>8.915653</td>\n",
              "      <td>2.927007</td>\n",
              "      <td>1.0</td>\n",
              "      <td>1027.656123</td>\n",
              "      <td>2.771290</td>\n",
              "      <td>0.406326</td>\n",
              "      <td>65.952149</td>\n",
              "      <td>2.770479</td>\n",
              "      <td>2.145985</td>\n",
              "      <td>2.778589</td>\n",
              "      <td>6832.739659</td>\n",
              "      <td>14265.779400</td>\n",
              "      <td>2.64558</td>\n",
              "      <td>1.0</td>\n",
              "      <td>0.234388</td>\n",
              "      <td>15.231144</td>\n",
              "      <td>3.153285</td>\n",
              "      <td>2.733982</td>\n",
              "      <td>80.0</td>\n",
              "      <td>0.845093</td>\n",
              "      <td>11.862936</td>\n",
              "      <td>2.832928</td>\n",
              "      <td>2.781022</td>\n",
              "      <td>7.369019</td>\n",
              "      <td>4.484185</td>\n",
              "      <td>2.234388</td>\n",
              "      <td>4.367397</td>\n",
              "    </tr>\n",
              "    <tr>\n",
              "      <th>std</th>\n",
              "      <td>8.888360</td>\n",
              "      <td>0.0</td>\n",
              "      <td>403.208379</td>\n",
              "      <td>8.012633</td>\n",
              "      <td>1.027002</td>\n",
              "      <td>0.0</td>\n",
              "      <td>606.217074</td>\n",
              "      <td>1.071132</td>\n",
              "      <td>0.491346</td>\n",
              "      <td>20.380754</td>\n",
              "      <td>0.692050</td>\n",
              "      <td>1.117933</td>\n",
              "      <td>1.093277</td>\n",
              "      <td>4818.208001</td>\n",
              "      <td>7102.260749</td>\n",
              "      <td>2.46009</td>\n",
              "      <td>0.0</td>\n",
              "      <td>0.423787</td>\n",
              "      <td>3.639511</td>\n",
              "      <td>0.360408</td>\n",
              "      <td>1.071603</td>\n",
              "      <td>0.0</td>\n",
              "      <td>0.841985</td>\n",
              "      <td>7.760719</td>\n",
              "      <td>1.293585</td>\n",
              "      <td>0.681907</td>\n",
              "      <td>6.096298</td>\n",
              "      <td>3.649402</td>\n",
              "      <td>3.234762</td>\n",
              "      <td>3.594116</td>\n",
              "    </tr>\n",
              "    <tr>\n",
              "      <th>min</th>\n",
              "      <td>18.000000</td>\n",
              "      <td>0.0</td>\n",
              "      <td>102.000000</td>\n",
              "      <td>1.000000</td>\n",
              "      <td>1.000000</td>\n",
              "      <td>1.0</td>\n",
              "      <td>2.000000</td>\n",
              "      <td>1.000000</td>\n",
              "      <td>0.000000</td>\n",
              "      <td>30.000000</td>\n",
              "      <td>1.000000</td>\n",
              "      <td>1.000000</td>\n",
              "      <td>1.000000</td>\n",
              "      <td>1051.000000</td>\n",
              "      <td>2094.000000</td>\n",
              "      <td>0.00000</td>\n",
              "      <td>1.0</td>\n",
              "      <td>0.000000</td>\n",
              "      <td>11.000000</td>\n",
              "      <td>3.000000</td>\n",
              "      <td>1.000000</td>\n",
              "      <td>80.0</td>\n",
              "      <td>0.000000</td>\n",
              "      <td>0.000000</td>\n",
              "      <td>0.000000</td>\n",
              "      <td>1.000000</td>\n",
              "      <td>0.000000</td>\n",
              "      <td>0.000000</td>\n",
              "      <td>0.000000</td>\n",
              "      <td>0.000000</td>\n",
              "    </tr>\n",
              "    <tr>\n",
              "      <th>25%</th>\n",
              "      <td>31.000000</td>\n",
              "      <td>0.0</td>\n",
              "      <td>477.000000</td>\n",
              "      <td>2.000000</td>\n",
              "      <td>2.000000</td>\n",
              "      <td>1.0</td>\n",
              "      <td>483.000000</td>\n",
              "      <td>2.000000</td>\n",
              "      <td>0.000000</td>\n",
              "      <td>48.000000</td>\n",
              "      <td>2.000000</td>\n",
              "      <td>1.000000</td>\n",
              "      <td>2.000000</td>\n",
              "      <td>3211.000000</td>\n",
              "      <td>7973.000000</td>\n",
              "      <td>1.00000</td>\n",
              "      <td>1.0</td>\n",
              "      <td>0.000000</td>\n",
              "      <td>12.000000</td>\n",
              "      <td>3.000000</td>\n",
              "      <td>2.000000</td>\n",
              "      <td>80.0</td>\n",
              "      <td>0.000000</td>\n",
              "      <td>6.000000</td>\n",
              "      <td>2.000000</td>\n",
              "      <td>2.000000</td>\n",
              "      <td>3.000000</td>\n",
              "      <td>2.000000</td>\n",
              "      <td>0.000000</td>\n",
              "      <td>2.000000</td>\n",
              "    </tr>\n",
              "    <tr>\n",
              "      <th>50%</th>\n",
              "      <td>36.000000</td>\n",
              "      <td>0.0</td>\n",
              "      <td>817.000000</td>\n",
              "      <td>7.000000</td>\n",
              "      <td>3.000000</td>\n",
              "      <td>1.0</td>\n",
              "      <td>1022.000000</td>\n",
              "      <td>3.000000</td>\n",
              "      <td>0.000000</td>\n",
              "      <td>66.000000</td>\n",
              "      <td>3.000000</td>\n",
              "      <td>2.000000</td>\n",
              "      <td>3.000000</td>\n",
              "      <td>5204.000000</td>\n",
              "      <td>14120.000000</td>\n",
              "      <td>2.00000</td>\n",
              "      <td>1.0</td>\n",
              "      <td>0.000000</td>\n",
              "      <td>14.000000</td>\n",
              "      <td>3.000000</td>\n",
              "      <td>3.000000</td>\n",
              "      <td>80.0</td>\n",
              "      <td>1.000000</td>\n",
              "      <td>10.000000</td>\n",
              "      <td>3.000000</td>\n",
              "      <td>3.000000</td>\n",
              "      <td>6.000000</td>\n",
              "      <td>3.000000</td>\n",
              "      <td>1.000000</td>\n",
              "      <td>3.000000</td>\n",
              "    </tr>\n",
              "    <tr>\n",
              "      <th>75%</th>\n",
              "      <td>43.000000</td>\n",
              "      <td>0.0</td>\n",
              "      <td>1176.000000</td>\n",
              "      <td>13.000000</td>\n",
              "      <td>4.000000</td>\n",
              "      <td>1.0</td>\n",
              "      <td>1574.000000</td>\n",
              "      <td>4.000000</td>\n",
              "      <td>1.000000</td>\n",
              "      <td>83.000000</td>\n",
              "      <td>3.000000</td>\n",
              "      <td>3.000000</td>\n",
              "      <td>4.000000</td>\n",
              "      <td>8834.000000</td>\n",
              "      <td>20364.000000</td>\n",
              "      <td>4.00000</td>\n",
              "      <td>1.0</td>\n",
              "      <td>0.000000</td>\n",
              "      <td>18.000000</td>\n",
              "      <td>3.000000</td>\n",
              "      <td>4.000000</td>\n",
              "      <td>80.0</td>\n",
              "      <td>1.000000</td>\n",
              "      <td>16.000000</td>\n",
              "      <td>3.000000</td>\n",
              "      <td>3.000000</td>\n",
              "      <td>10.000000</td>\n",
              "      <td>7.000000</td>\n",
              "      <td>3.000000</td>\n",
              "      <td>7.000000</td>\n",
              "    </tr>\n",
              "    <tr>\n",
              "      <th>max</th>\n",
              "      <td>60.000000</td>\n",
              "      <td>0.0</td>\n",
              "      <td>1499.000000</td>\n",
              "      <td>29.000000</td>\n",
              "      <td>5.000000</td>\n",
              "      <td>1.0</td>\n",
              "      <td>2068.000000</td>\n",
              "      <td>4.000000</td>\n",
              "      <td>1.000000</td>\n",
              "      <td>100.000000</td>\n",
              "      <td>4.000000</td>\n",
              "      <td>5.000000</td>\n",
              "      <td>4.000000</td>\n",
              "      <td>19999.000000</td>\n",
              "      <td>26997.000000</td>\n",
              "      <td>9.00000</td>\n",
              "      <td>1.0</td>\n",
              "      <td>1.000000</td>\n",
              "      <td>25.000000</td>\n",
              "      <td>4.000000</td>\n",
              "      <td>4.000000</td>\n",
              "      <td>80.0</td>\n",
              "      <td>3.000000</td>\n",
              "      <td>38.000000</td>\n",
              "      <td>6.000000</td>\n",
              "      <td>4.000000</td>\n",
              "      <td>37.000000</td>\n",
              "      <td>18.000000</td>\n",
              "      <td>15.000000</td>\n",
              "      <td>17.000000</td>\n",
              "    </tr>\n",
              "  </tbody>\n",
              "</table>\n",
              "</div>"
            ],
            "text/plain": [
              "               Age  Attrition  ...  YearsSinceLastPromotion  YearsWithCurrManager\n",
              "count  1233.000000     1233.0  ...              1233.000000           1233.000000\n",
              "mean     37.561233        0.0  ...                 2.234388              4.367397\n",
              "std       8.888360        0.0  ...                 3.234762              3.594116\n",
              "min      18.000000        0.0  ...                 0.000000              0.000000\n",
              "25%      31.000000        0.0  ...                 0.000000              2.000000\n",
              "50%      36.000000        0.0  ...                 1.000000              3.000000\n",
              "75%      43.000000        0.0  ...                 3.000000              7.000000\n",
              "max      60.000000        0.0  ...                15.000000             17.000000\n",
              "\n",
              "[8 rows x 30 columns]"
            ]
          },
          "metadata": {
            "tags": []
          },
          "execution_count": 16
        }
      ]
    },
    {
      "cell_type": "markdown",
      "metadata": {
        "id": "3gEyNS57tWK9"
      },
      "source": [
        "Short analysis of current data for people who leave the company (on average):\r\n",
        "*   They are younger: 33 years\r\n",
        "*   They live further from their work: 11km\r\n",
        "*   Less satisfaction with the work environment: 2\r\n",
        "*   Lower level of work: 1\r\n",
        "*   Less satisfaction with work: 2\r\n",
        "*   Lower monthly salary: $ 4800.00\r\n",
        "*   Work more overtime: 0.5\r\n",
        "*   Less years in the company: 5\r\n",
        "*   Fewer years in current position: 2\r\n",
        "*   Fewer years with current manager: 2.8\r\n"
      ]
    },
    {
      "cell_type": "markdown",
      "metadata": {
        "id": "LvGcpIyIvDhT"
      },
      "source": [
        "# **Feature selection**\r\n",
        "\r\n",
        "**To Drop**:\r\n",
        "\r\n",
        "*    EmployeeCount: All values have the same value.\r\n",
        "*    Over18: Age is already present.\r\n",
        "*    StandartHours: All values have the same value.\r\n",
        "*    EmployeeNumber: Irrelevant variable.\r\n",
        "\r\n",
        "**About DailyRate, HourlyRate and MonthlyRate:**\r\n",
        "\r\n",
        "*    Monthly rate is the internal charge out rate which will be used to calculate the cost of each employee monthly, in general, the monthly rate will cover salary, social insurance, administration, logistics, over head etc.\r\n",
        "*    HourlyRate and DailyRate. These are not considered because the Standart Hours for every employee are 80 hours."
      ]
    },
    {
      "cell_type": "code",
      "metadata": {
        "colab": {
          "base_uri": "https://localhost:8080/"
        },
        "id": "mfcf_eqXuWJt",
        "outputId": "23274733-0ec3-4997-89d7-48e37a57a7cf"
      },
      "source": [
        "df.drop(columns = [\"EmployeeCount\", \"Over18\", \"StandardHours\", \"EmployeeNumber\", \"MonthlyRate\", \"DailyRate\", \"HourlyRate\", \"Attrition\"], inplace = True)\r\n",
        "df.shape"
      ],
      "execution_count": 17,
      "outputs": [
        {
          "output_type": "execute_result",
          "data": {
            "text/plain": [
              "(1470, 27)"
            ]
          },
          "metadata": {
            "tags": []
          },
          "execution_count": 17
        }
      ]
    },
    {
      "cell_type": "code",
      "metadata": {
        "id": "Uj1c608-v_Qi"
      },
      "source": [
        "MMS = MinMaxScaler()\r\n",
        "dummies = pd.get_dummies(df[df.columns.difference([\"PerformanceRating\"])])\r\n",
        "\r\n",
        "X = MMS.fit_transform(dummies)\r\n",
        "y = df[[\"PerformanceRating\"]].values.ravel()\r\n",
        "\r\n",
        "X_train, X_test, y_train, y_test = train_test_split(X, y, test_size=0.25, random_state = 0, shuffle = True)"
      ],
      "execution_count": 18,
      "outputs": []
    },
    {
      "cell_type": "code",
      "metadata": {
        "id": "eUiVI3wexDJ7",
        "colab": {
          "base_uri": "https://localhost:8080/"
        },
        "outputId": "41f48a63-01a4-4ebb-acaf-926700a676f0"
      },
      "source": [
        "# Trying to perform Logistic Regression in first place\r\n",
        "lg = LogisticRegression(max_iter=1000, solver = \"newton-cg\")\r\n",
        "lg.fit(X_train, y_train)"
      ],
      "execution_count": 19,
      "outputs": [
        {
          "output_type": "execute_result",
          "data": {
            "text/plain": [
              "LogisticRegression(C=1.0, class_weight=None, dual=False, fit_intercept=True,\n",
              "                   intercept_scaling=1, l1_ratio=None, max_iter=1000,\n",
              "                   multi_class='auto', n_jobs=None, penalty='l2',\n",
              "                   random_state=None, solver='newton-cg', tol=0.0001, verbose=0,\n",
              "                   warm_start=False)"
            ]
          },
          "metadata": {
            "tags": []
          },
          "execution_count": 19
        }
      ]
    },
    {
      "cell_type": "code",
      "metadata": {
        "colab": {
          "base_uri": "https://localhost:8080/"
        },
        "id": "9tVWfphdy7y7",
        "outputId": "70779ba8-2219-42d6-e0fa-15a94f4e1069"
      },
      "source": [
        "y_pred = lg.predict(X_test)\r\n",
        "print(\"Model accruracy score: {}\".format(accuracy_score(y_test, y_pred)))"
      ],
      "execution_count": 20,
      "outputs": [
        {
          "output_type": "stream",
          "text": [
            "Model accruracy score: 0.9646739130434783\n"
          ],
          "name": "stdout"
        }
      ]
    },
    {
      "cell_type": "code",
      "metadata": {
        "colab": {
          "base_uri": "https://localhost:8080/"
        },
        "id": "6GG6KxCUzVb6",
        "outputId": "4de293bd-ac0d-4112-cbfc-e58fbacd3c53"
      },
      "source": [
        "print(classification_report(y_test, y_pred))"
      ],
      "execution_count": 21,
      "outputs": [
        {
          "output_type": "stream",
          "text": [
            "              precision    recall  f1-score   support\n",
            "\n",
            "           3       0.96      1.00      0.98       307\n",
            "           4       1.00      0.79      0.88        61\n",
            "\n",
            "    accuracy                           0.96       368\n",
            "   macro avg       0.98      0.89      0.93       368\n",
            "weighted avg       0.97      0.96      0.96       368\n",
            "\n"
          ],
          "name": "stdout"
        }
      ]
    },
    {
      "cell_type": "code",
      "metadata": {
        "colab": {
          "base_uri": "https://localhost:8080/"
        },
        "id": "KXSh3Vd-zldX",
        "outputId": "7f59aa60-0ee4-4462-bd93-8c7521d27d8e"
      },
      "source": [
        "rf = RandomForestClassifier(random_state = 0)\r\n",
        "rf.fit(X_train, y_train)"
      ],
      "execution_count": 22,
      "outputs": [
        {
          "output_type": "execute_result",
          "data": {
            "text/plain": [
              "RandomForestClassifier(bootstrap=True, ccp_alpha=0.0, class_weight=None,\n",
              "                       criterion='gini', max_depth=None, max_features='auto',\n",
              "                       max_leaf_nodes=None, max_samples=None,\n",
              "                       min_impurity_decrease=0.0, min_impurity_split=None,\n",
              "                       min_samples_leaf=1, min_samples_split=2,\n",
              "                       min_weight_fraction_leaf=0.0, n_estimators=100,\n",
              "                       n_jobs=None, oob_score=False, random_state=0, verbose=0,\n",
              "                       warm_start=False)"
            ]
          },
          "metadata": {
            "tags": []
          },
          "execution_count": 22
        }
      ]
    },
    {
      "cell_type": "code",
      "metadata": {
        "colab": {
          "base_uri": "https://localhost:8080/"
        },
        "id": "ohiaDSOHzyv1",
        "outputId": "3256bf4b-8d5d-4df4-dc47-bda572dcbc9f"
      },
      "source": [
        "y_pred = rf.predict(X_test)\r\n",
        "print(\"Model accruracy score: {}\".format(accuracy_score(y_test, y_pred)))"
      ],
      "execution_count": 23,
      "outputs": [
        {
          "output_type": "stream",
          "text": [
            "Model accruracy score: 1.0\n"
          ],
          "name": "stdout"
        }
      ]
    },
    {
      "cell_type": "code",
      "metadata": {
        "colab": {
          "base_uri": "https://localhost:8080/"
        },
        "id": "XUVjCLSXz2nR",
        "outputId": "dd35b5a3-c5da-4620-bfba-50e6c465883d"
      },
      "source": [
        "print(classification_report(y_test, y_pred))"
      ],
      "execution_count": 24,
      "outputs": [
        {
          "output_type": "stream",
          "text": [
            "              precision    recall  f1-score   support\n",
            "\n",
            "           3       1.00      1.00      1.00       307\n",
            "           4       1.00      1.00      1.00        61\n",
            "\n",
            "    accuracy                           1.00       368\n",
            "   macro avg       1.00      1.00      1.00       368\n",
            "weighted avg       1.00      1.00      1.00       368\n",
            "\n"
          ],
          "name": "stdout"
        }
      ]
    },
    {
      "cell_type": "code",
      "metadata": {
        "colab": {
          "base_uri": "https://localhost:8080/"
        },
        "id": "lLiPPEbZz5CG",
        "outputId": "2a3dbabe-c5ab-46ce-e412-cc03252eb3f8"
      },
      "source": [
        "workers = list(enumerate(y_pred))[0:20]\r\n",
        "workers"
      ],
      "execution_count": 25,
      "outputs": [
        {
          "output_type": "execute_result",
          "data": {
            "text/plain": [
              "[(0, 3),\n",
              " (1, 3),\n",
              " (2, 3),\n",
              " (3, 4),\n",
              " (4, 4),\n",
              " (5, 4),\n",
              " (6, 4),\n",
              " (7, 3),\n",
              " (8, 3),\n",
              " (9, 3),\n",
              " (10, 3),\n",
              " (11, 3),\n",
              " (12, 3),\n",
              " (13, 3),\n",
              " (14, 3),\n",
              " (15, 3),\n",
              " (16, 3),\n",
              " (17, 3),\n",
              " (18, 3),\n",
              " (19, 3)]"
            ]
          },
          "metadata": {
            "tags": []
          },
          "execution_count": 25
        }
      ]
    },
    {
      "cell_type": "code",
      "metadata": {
        "colab": {
          "base_uri": "https://localhost:8080/"
        },
        "id": "2qjtAnnLUDMK",
        "outputId": "d87f20dc-3efc-4215-de51-c5a1aebca2ec"
      },
      "source": [
        "tasks = list(enumerate(range(1,21)))\r\n",
        "tasks"
      ],
      "execution_count": 26,
      "outputs": [
        {
          "output_type": "execute_result",
          "data": {
            "text/plain": [
              "[(0, 1),\n",
              " (1, 2),\n",
              " (2, 3),\n",
              " (3, 4),\n",
              " (4, 5),\n",
              " (5, 6),\n",
              " (6, 7),\n",
              " (7, 8),\n",
              " (8, 9),\n",
              " (9, 10),\n",
              " (10, 11),\n",
              " (11, 12),\n",
              " (12, 13),\n",
              " (13, 14),\n",
              " (14, 15),\n",
              " (15, 16),\n",
              " (16, 17),\n",
              " (17, 18),\n",
              " (18, 19),\n",
              " (19, 20)]"
            ]
          },
          "metadata": {
            "tags": []
          },
          "execution_count": 26
        }
      ]
    },
    {
      "cell_type": "code",
      "metadata": {
        "colab": {
          "base_uri": "https://localhost:8080/"
        },
        "id": "OpK2DOEBVwZg",
        "outputId": "02ba3f22-3e4b-47ec-f155-14620a4c1d64"
      },
      "source": [
        "ga = GeneticAlgorithm()"
      ],
      "execution_count": 27,
      "outputs": [
        {
          "output_type": "stream",
          "text": [
            "GeneticAlgorithm(stop_iter=1000)\n"
          ],
          "name": "stdout"
        }
      ]
    },
    {
      "cell_type": "code",
      "metadata": {
        "colab": {
          "base_uri": "https://localhost:8080/"
        },
        "id": "DsFyUq0n0Y-_",
        "outputId": "6e7e8665-c843-44a6-e54b-e8dc4762ca3d"
      },
      "source": [
        "solution = ga.optimize(workers, tasks)"
      ],
      "execution_count": 28,
      "outputs": [
        {
          "output_type": "stream",
          "text": [
            "Iter 0 of 1000\n",
            "Iter 100 of 1000\n",
            "Iter 200 of 1000\n",
            "Iter 300 of 1000\n",
            "Iter 400 of 1000\n",
            "Iter 500 of 1000\n",
            "Iter 600 of 1000\n",
            "Iter 700 of 1000\n",
            "Iter 800 of 1000\n",
            "Iter 900 of 1000\n"
          ],
          "name": "stdout"
        }
      ]
    },
    {
      "cell_type": "code",
      "metadata": {
        "colab": {
          "base_uri": "https://localhost:8080/"
        },
        "id": "l0XfngXq5of0",
        "outputId": "f837a459-0bd3-4f4d-d394-a1e2a23560e9"
      },
      "source": [
        "solution"
      ],
      "execution_count": 29,
      "outputs": [
        {
          "output_type": "execute_result",
          "data": {
            "text/plain": [
              "[((0, 3), (0, 1)),\n",
              " ((2, 3), (1, 2)),\n",
              " ((18, 3), (2, 3)),\n",
              " ((16, 3), (3, 4)),\n",
              " ((14, 3), (4, 5)),\n",
              " ((1, 3), (5, 6)),\n",
              " ((9, 3), (6, 7)),\n",
              " ((13, 3), (7, 8)),\n",
              " ((7, 3), (8, 9)),\n",
              " ((17, 3), (9, 10)),\n",
              " ((10, 3), (10, 11)),\n",
              " ((8, 3), (11, 12)),\n",
              " ((15, 3), (12, 13)),\n",
              " ((19, 3), (13, 14)),\n",
              " ((11, 3), (14, 15)),\n",
              " ((12, 3), (15, 16)),\n",
              " ((4, 4), (16, 17)),\n",
              " ((3, 4), (17, 18)),\n",
              " ((6, 4), (18, 19)),\n",
              " ((5, 4), (19, 20))]"
            ]
          },
          "metadata": {
            "tags": []
          },
          "execution_count": 29
        }
      ]
    }
  ]
}